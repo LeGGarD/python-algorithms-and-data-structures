{
 "cells": [
  {
   "cell_type": "markdown",
   "id": "typical-sunset",
   "metadata": {},
   "source": [
    "> **QUESTION 1:** Alice has some cards with numbers written on them. She arranges the cards in decreasing order, and lays them out face down in a sequence on a table. She challenges Bob to pick out the card containing a given number by turning over as few cards as possible. Write a function to help Bob locate the card."
   ]
  },
  {
   "cell_type": "markdown",
   "id": "acknowledged-province",
   "metadata": {},
   "source": [
    "## The Method\n",
    "\n",
    "Upon reading the problem, you may get some ideas on how to solve it and your first instinct might be to start writing code. This is not the optimal strategy and you may end up spending a longer time trying to solve the problem due to coding errors, or may not be able to solve it at all.\n",
    "\n",
    "Here's a systematic strategy we'll apply for solving problems:\n",
    "\n",
    "1. State the problem clearly. Identify the input & output formats.\n",
    "2. Come up with some example inputs & outputs. Try to cover all edge cases.\n",
    "3. Come up with a correct solution for the problem. State it in plain English.\n",
    "4. Implement the solution and test it using example inputs. Fix bugs, if any.\n",
    "5. Analyze the algorithm's complexity and identify inefficiencies, if any.\n",
    "6. Apply the right technique to overcome the inefficiency. Repeat steps 3 to 6.\n",
    "\n",
    "_\"Applying the right technique\"_ is where the knowledge of common data structures and algorithms comes in handy. "
   ]
  },
  {
   "cell_type": "markdown",
   "id": "based-breath",
   "metadata": {},
   "source": [
    "## 1. State the problem clearly. Identify the input & output formats  \n",
    "  \n",
    "#### Problem  \n",
    "> We need to write a function, which will find the position of the card with a given number. And also we need to find that card with a few steps as possible  \n",
    "  \n",
    "#### Input  \n",
    "> `cards` A python array of cards in decreasing order: `[12, 11, 7, 5, 4, 2, 1, 0]`  \n",
    "> `query` A number, we want to find: `7`  \n",
    "  \n",
    "#### Output  \n",
    "> `output` An integer, representing the index of the given number in the array: `2`  "
   ]
  },
  {
   "cell_type": "markdown",
   "id": "organizational-listening",
   "metadata": {},
   "source": [
    "## Come up with some example inputs & outputs. Try to cover all edge cases."
   ]
  },
  {
   "cell_type": "code",
   "execution_count": 2,
   "id": "centered-electric",
   "metadata": {},
   "outputs": [],
   "source": [
    "def locate_card(cards, query):\n",
    "    pass"
   ]
  },
  {
   "cell_type": "code",
   "execution_count": 3,
   "id": "cellular-browser",
   "metadata": {},
   "outputs": [],
   "source": [
    "test = {\n",
    "    'input': {\n",
    "        'cards': [9, 8, 7, 6, 5, 3, 1],\n",
    "        'query': 3\n",
    "    },\n",
    "    'output': 5\n",
    "}"
   ]
  },
  {
   "cell_type": "code",
   "execution_count": 4,
   "id": "sunset-repeat",
   "metadata": {},
   "outputs": [
    {
     "data": {
      "text/plain": [
       "False"
      ]
     },
     "execution_count": 4,
     "metadata": {},
     "output_type": "execute_result"
    }
   ],
   "source": [
    "locate_card(**test['input']) == test['output']"
   ]
  },
  {
   "cell_type": "code",
   "execution_count": 6,
   "id": "strange-macintosh",
   "metadata": {},
   "outputs": [],
   "source": [
    "tests = []\n",
    "tests.append(test)"
   ]
  },
  {
   "cell_type": "code",
   "execution_count": 7,
   "id": "developed-formation",
   "metadata": {},
   "outputs": [],
   "source": [
    "test = {\n",
    "    'input': {\n",
    "        'cards': [9, 8, 8, 8, 7, 6, 5, 3, 1],\n",
    "        'query': 3\n",
    "    },\n",
    "    'output': 7\n",
    "}\n",
    "\n",
    "tests.append(test)\n",
    "\n",
    "test = {\n",
    "    'input': {\n",
    "        'cards': [9, 8, 8, 7, 6, 5, 3, 3, 1],\n",
    "        'query': 3\n",
    "    },\n",
    "    'output': 6\n",
    "}\n",
    "\n",
    "tests.append(test)\n",
    "\n",
    "test = {\n",
    "    'input': {\n",
    "        'cards': [],\n",
    "        'query': 3\n",
    "    },\n",
    "    'output': -1\n",
    "}\n",
    "\n",
    "tests.append(test)\n",
    "\n",
    "test = {\n",
    "    'input': {\n",
    "        'cards': [9, 8, 8, 7, 6, 5, 1],\n",
    "        'query': 3\n",
    "    },\n",
    "    'output': -1\n",
    "}\n",
    "\n",
    "tests.append(test)\n",
    "\n",
    "test = {\n",
    "    'input': {\n",
    "        'cards': [9, 8, 8, 7, 3],\n",
    "        'query': 3\n",
    "    },\n",
    "    'output': 4\n",
    "}\n",
    "\n",
    "tests.append(test)\n",
    "\n",
    "test = {\n",
    "    'input': {\n",
    "        'cards': [3],\n",
    "        'query': 3\n",
    "    },\n",
    "    'output': 0\n",
    "}\n",
    "\n",
    "tests.append(test)"
   ]
  },
  {
   "cell_type": "code",
   "execution_count": 8,
   "id": "falling-dietary",
   "metadata": {},
   "outputs": [
    {
     "data": {
      "text/plain": [
       "[{'input': {'cards': [9, 8, 7, 6, 5, 3, 1], 'query': 3}, 'output': 5},\n",
       " {'input': {'cards': [9, 8, 8, 8, 7, 6, 5, 3, 1], 'query': 3}, 'output': 7},\n",
       " {'input': {'cards': [9, 8, 8, 7, 6, 5, 3, 3, 1], 'query': 3}, 'output': 6},\n",
       " {'input': {'cards': [], 'query': 3}, 'output': -1},\n",
       " {'input': {'cards': [9, 8, 8, 7, 6, 5, 1], 'query': 3}, 'output': -1},\n",
       " {'input': {'cards': [9, 8, 8, 7, 3], 'query': 3}, 'output': 4},\n",
       " {'input': {'cards': [3], 'query': 3}, 'output': 0}]"
      ]
     },
     "execution_count": 8,
     "metadata": {},
     "output_type": "execute_result"
    }
   ],
   "source": [
    "tests"
   ]
  },
  {
   "cell_type": "markdown",
   "id": "smooth-proof",
   "metadata": {},
   "source": [
    "## 3. Come up with a correct solution for the problem. State it in plain English\n",
    "\n",
    "At first it makes sence to try just a default iteration through the all cards one by one. It will be our baseline  \n",
    "  \n",
    "I am going to create a `for` loop with `enumerate` function, which will count indexes of `cards` list.  \n",
    "On each iteration step I will compare the `card` value with the `query` value and `if it is equal` I set `output` equal to `card` index.  \n",
    "Also I am going to add an alternative output `-1`, when the `query` value doesn't exist in an array "
   ]
  },
  {
   "cell_type": "markdown",
   "id": "generic-abraham",
   "metadata": {},
   "source": [
    "## 4. Implement the solution and test it using example inputs. Fix bugs, if any."
   ]
  },
  {
   "cell_type": "code",
   "execution_count": 11,
   "id": "transparent-judgment",
   "metadata": {},
   "outputs": [],
   "source": [
    "def locate_cards(cards, query):\n",
    "    for i, card in enumerate(cards):\n",
    "        if card == query:\n",
    "            output = i\n",
    "            return output\n",
    "    return -1"
   ]
  },
  {
   "cell_type": "code",
   "execution_count": 12,
   "id": "revolutionary-corporation",
   "metadata": {},
   "outputs": [
    {
     "name": "stdout",
     "output_type": "stream",
     "text": [
      "True\n",
      "True\n",
      "True\n",
      "True\n",
      "True\n",
      "True\n",
      "True\n"
     ]
    }
   ],
   "source": [
    "for test in tests:\n",
    "    print(locate_cards(**test['input']) == test['output'])"
   ]
  },
  {
   "cell_type": "markdown",
   "id": "paperback-maryland",
   "metadata": {},
   "source": [
    "We've passed all 7 test, so we can consider our algorithm as a right solution, but we can make it better, test its efficasy and complexity and reduce count of steps "
   ]
  },
  {
   "cell_type": "markdown",
   "id": "acute-springfield",
   "metadata": {},
   "source": [
    "## 5. Analyze the algorithm's complexity and identify inefficiencies, if any."
   ]
  },
  {
   "cell_type": "markdown",
   "id": "opening-chance",
   "metadata": {},
   "source": [
    "As soon as our algorithm iterates through all cards, its time complexity is **O(N)**  \n",
    "And it creates only one variable `output`, which is integer so its space complexity is minimal"
   ]
  },
  {
   "cell_type": "markdown",
   "id": "labeled-choir",
   "metadata": {},
   "source": [
    "## 6. Apply the right technique to overcome the inefficiency. Repeat steps 3 to 6"
   ]
  },
  {
   "cell_type": "markdown",
   "id": "received-vault",
   "metadata": {},
   "source": [
    "Now we just brute force the solution and not focusing on that cards are sorted    \n",
    "We can implement a binary search to make the algorythm much more effective  \n",
    "  \n",
    "**Binary search explanation**  \n",
    "> 1. Find middle value of the list\n",
    "> 2. Compare it to the `query` value\n",
    "> 3.1 If `card > value`, repeat steps 1-2 with the **right** half of the array\n",
    "> 3.2 If `card < value`, repeat steps 1-2 with the **left** half of the array\n",
    "> 4. Repeat steps untill we find exaclty needed value"
   ]
  },
  {
   "cell_type": "code",
   "execution_count": null,
   "id": "existing-administration",
   "metadata": {},
   "outputs": [],
   "source": []
  }
 ],
 "metadata": {
  "kernelspec": {
   "display_name": "Python 3",
   "language": "python",
   "name": "python3"
  },
  "language_info": {
   "codemirror_mode": {
    "name": "ipython",
    "version": 3
   },
   "file_extension": ".py",
   "mimetype": "text/x-python",
   "name": "python",
   "nbconvert_exporter": "python",
   "pygments_lexer": "ipython3",
   "version": "3.9.0"
  }
 },
 "nbformat": 4,
 "nbformat_minor": 5
}
